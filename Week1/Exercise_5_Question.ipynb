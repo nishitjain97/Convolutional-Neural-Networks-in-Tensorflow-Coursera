{
  "nbformat": 4,
  "nbformat_minor": 0,
  "metadata": {
    "colab": {
      "name": "Exercise 5 - Question.ipynb",
      "version": "0.3.2",
      "provenance": [],
      "collapsed_sections": []
    },
    "kernelspec": {
      "name": "python3",
      "display_name": "Python 3"
    },
    "accelerator": "GPU"
  },
  "cells": [
    {
      "cell_type": "code",
      "metadata": {
        "id": "_msQJHttUZTA",
        "colab_type": "code",
        "colab": {}
      },
      "source": [
        "import os\n",
        "import zipfile\n",
        "import random\n",
        "import tensorflow as tf\n",
        "from tensorflow.keras.optimizers import RMSprop\n",
        "from tensorflow.keras.preprocessing.image import ImageDataGenerator\n",
        "from shutil import copyfile"
      ],
      "execution_count": 0,
      "outputs": []
    },
    {
      "cell_type": "code",
      "metadata": {
        "id": "jV-F4nYfUws8",
        "colab_type": "code",
        "colab": {
          "base_uri": "https://localhost:8080/",
          "height": 204
        },
        "outputId": "61fc1692-ca9a-4a3c-ea77-ce2488dac81e"
      },
      "source": [
        "# If the URL doesn't work, visit https://www.microsoft.com/en-us/download/confirmation.aspx?id=54765\n",
        "# And right click on the 'Download Manually' link to get a new URL to the dataset\n",
        "\n",
        "# Note: This is a very large dataset and will take time to download\n",
        "\n",
        "!wget --no-check-certificate \\\n",
        "    \"https://download.microsoft.com/download/3/E/1/3E1C3F21-ECDB-4869-8368-6DEBA77B919F/kagglecatsanddogs_3367a.zip\" \\\n",
        "    -O \"/tmp/cats-and-dogs.zip\"\n",
        "\n",
        "local_zip = '/tmp/cats-and-dogs.zip'\n",
        "zip_ref   = zipfile.ZipFile(local_zip, 'r')\n",
        "zip_ref.extractall('/tmp')\n",
        "zip_ref.close()\n"
      ],
      "execution_count": 15,
      "outputs": [
        {
          "output_type": "stream",
          "text": [
            "--2019-06-02 11:03:27--  https://download.microsoft.com/download/3/E/1/3E1C3F21-ECDB-4869-8368-6DEBA77B919F/kagglecatsanddogs_3367a.zip\n",
            "Resolving download.microsoft.com (download.microsoft.com)... 184.27.180.156, 2600:1408:8400:385::e59, 2600:1408:8400:3a9::e59\n",
            "Connecting to download.microsoft.com (download.microsoft.com)|184.27.180.156|:443... connected.\n",
            "HTTP request sent, awaiting response... 200 OK\n",
            "Length: 824894548 (787M) [application/octet-stream]\n",
            "Saving to: ‘/tmp/cats-and-dogs.zip’\n",
            "\n",
            "/tmp/cats-and-dogs. 100%[===================>] 786.68M  97.0MB/s    in 9.1s    \n",
            "\n",
            "2019-06-02 11:03:36 (86.2 MB/s) - ‘/tmp/cats-and-dogs.zip’ saved [824894548/824894548]\n",
            "\n"
          ],
          "name": "stdout"
        }
      ]
    },
    {
      "cell_type": "code",
      "metadata": {
        "id": "gi3yD62a6X3S",
        "colab_type": "code",
        "colab": {
          "base_uri": "https://localhost:8080/",
          "height": 51
        },
        "outputId": "876a010b-1b67-4b3f-998f-28391c26ba3a"
      },
      "source": [
        "print(len(os.listdir('/tmp/PetImages/Cat/')))\n",
        "print(len(os.listdir('/tmp/PetImages/Dog/')))\n",
        "\n",
        "# Expected Output:\n",
        "# 12501\n",
        "# 12501"
      ],
      "execution_count": 16,
      "outputs": [
        {
          "output_type": "stream",
          "text": [
            "12501\n",
            "12501\n"
          ],
          "name": "stdout"
        }
      ]
    },
    {
      "cell_type": "code",
      "metadata": {
        "id": "F-QkLjxpmyK2",
        "colab_type": "code",
        "colab": {}
      },
      "source": [
        "try:\n",
        "    os.mkdir('/tmp/cats-v-dogs')\n",
        "    os.mkdir('/tmp/cats-v-dogs/training')\n",
        "    os.mkdir('/tmp/cats-v-dogs/testing')\n",
        "    os.mkdir('/tmp/cats-v-dogs/training/cats')\n",
        "    os.mkdir('/tmp/cats-v-dogs/training/dogs')\n",
        "    os.mkdir('/tmp/cats-v-dogs/testing/cats')\n",
        "    os.mkdir('/tmp/cats-v-dogs/testing/dogs')\n",
        "except OSError:\n",
        "    pass"
      ],
      "execution_count": 0,
      "outputs": []
    },
    {
      "cell_type": "code",
      "metadata": {
        "id": "zvSODo0f9LaU",
        "colab_type": "code",
        "colab": {
          "base_uri": "https://localhost:8080/",
          "height": 51
        },
        "outputId": "f4fbd6c0-9e17-4945-e629-a1525001cf8f"
      },
      "source": [
        "def split_data(SOURCE, TRAINING, TESTING, SPLIT_SIZE):\n",
        "    files = []\n",
        "    for filename in os.listdir(SOURCE):\n",
        "        file = SOURCE + filename\n",
        "        if os.path.getsize(file) > 0:\n",
        "            files.append(filename)\n",
        "        else:\n",
        "            print(filename + \" is zero length, so ignoring.\")\n",
        "\n",
        "    training_length = int(len(files) * SPLIT_SIZE)\n",
        "    testing_length = int(len(files) - training_length)\n",
        "    shuffled_set = random.sample(files, len(files))\n",
        "    training_set = shuffled_set[0:training_length]\n",
        "    testing_set = shuffled_set[-testing_length:]\n",
        "\n",
        "    for filename in training_set:\n",
        "        this_file = SOURCE + filename\n",
        "        destination = TRAINING + filename\n",
        "        copyfile(this_file, destination)\n",
        "\n",
        "    for filename in testing_set:\n",
        "        this_file = SOURCE + filename\n",
        "        destination = TESTING + filename\n",
        "        copyfile(this_file, destination)\n",
        "\n",
        "\n",
        "CAT_SOURCE_DIR = \"/tmp/PetImages/Cat/\"\n",
        "TRAINING_CATS_DIR = \"/tmp/cats-v-dogs/training/cats/\"\n",
        "TESTING_CATS_DIR = \"/tmp/cats-v-dogs/testing/cats/\"\n",
        "DOG_SOURCE_DIR = \"/tmp/PetImages/Dog/\"\n",
        "TRAINING_DOGS_DIR = \"/tmp/cats-v-dogs/training/dogs/\"\n",
        "TESTING_DOGS_DIR = \"/tmp/cats-v-dogs/testing/dogs/\"\n",
        "\n",
        "split_size = .9\n",
        "split_data(CAT_SOURCE_DIR, TRAINING_CATS_DIR, TESTING_CATS_DIR, split_size)\n",
        "split_data(DOG_SOURCE_DIR, TRAINING_DOGS_DIR, TESTING_DOGS_DIR, split_size)\n",
        "\n",
        "# Expected output\n",
        "# 666.jpg is zero length, so ignoring\n",
        "# 11702.jpg is zero length, so ignoring"
      ],
      "execution_count": 18,
      "outputs": [
        {
          "output_type": "stream",
          "text": [
            "666.jpg is zero length, so ignoring.\n",
            "11702.jpg is zero length, so ignoring.\n"
          ],
          "name": "stdout"
        }
      ]
    },
    {
      "cell_type": "code",
      "metadata": {
        "id": "6BbeTlaa1p--",
        "colab_type": "code",
        "colab": {
          "base_uri": "https://localhost:8080/",
          "height": 85
        },
        "outputId": "479f383a-aed3-45df-8561-c57e0082a3af"
      },
      "source": [
        "print(len(os.listdir('/tmp/cats-v-dogs/training/cats/')))\n",
        "print(len(os.listdir('/tmp/cats-v-dogs/training/dogs/')))\n",
        "print(len(os.listdir('/tmp/cats-v-dogs/testing/cats/')))\n",
        "print(len(os.listdir('/tmp/cats-v-dogs/testing/dogs/')))\n",
        "\n",
        "# Expected output:\n",
        "# 11250\n",
        "# 11250\n",
        "# 1250\n",
        "# 1250"
      ],
      "execution_count": 19,
      "outputs": [
        {
          "output_type": "stream",
          "text": [
            "11250\n",
            "11250\n",
            "1250\n",
            "1250\n"
          ],
          "name": "stdout"
        }
      ]
    },
    {
      "cell_type": "code",
      "metadata": {
        "id": "-BQrav4anTmj",
        "colab_type": "code",
        "colab": {
          "base_uri": "https://localhost:8080/",
          "height": 88
        },
        "outputId": "6ffb92c8-f359-4b3b-92a2-12445bad7e40"
      },
      "source": [
        "model = tf.keras.models.Sequential([\n",
        "    tf.keras.layers.Conv2D(16, (3, 3), activation='relu', input_shape=(150, 150, 3)),\n",
        "    tf.keras.layers.MaxPooling2D(2, 2),\n",
        "    tf.keras.layers.Conv2D(32, (3, 3), activation='relu'),\n",
        "    tf.keras.layers.MaxPooling2D(2, 2),\n",
        "    tf.keras.layers.Conv2D(64, (3, 3), activation='relu'),\n",
        "    tf.keras.layers.MaxPooling2D(2, 2),\n",
        "    tf.keras.layers.Flatten(),\n",
        "    tf.keras.layers.Dense(512, activation='relu'),\n",
        "    tf.keras.layers.Dense(1, activation='sigmoid')\n",
        "])\n",
        "\n",
        "model.compile(optimizer=RMSprop(lr=0.001), loss='binary_crossentropy', metrics=['acc'])"
      ],
      "execution_count": 20,
      "outputs": [
        {
          "output_type": "stream",
          "text": [
            "WARNING:tensorflow:From /usr/local/lib/python3.6/dist-packages/tensorflow/python/ops/resource_variable_ops.py:435: colocate_with (from tensorflow.python.framework.ops) is deprecated and will be removed in a future version.\n",
            "Instructions for updating:\n",
            "Colocations handled automatically by placer.\n"
          ],
          "name": "stdout"
        }
      ]
    },
    {
      "cell_type": "code",
      "metadata": {
        "id": "mlNjoJ5D61N6",
        "colab_type": "code",
        "colab": {
          "base_uri": "https://localhost:8080/",
          "height": 51
        },
        "outputId": "f091574c-0de1-4c9b-e453-ae1bfcc6f9ac"
      },
      "source": [
        "TRAINING_DIR = \"/tmp/cats-v-dogs/training/\"\n",
        "train_datagen = ImageDataGenerator(rescale=1.0/255.)\n",
        "train_generator = train_datagen.flow_from_directory(TRAINING_DIR,\n",
        "                                                    batch_size=100,\n",
        "                                                    class_mode='binary',\n",
        "                                                    target_size=(150, 150))\n",
        "\n",
        "VALIDATION_DIR = \"/tmp/cats-v-dogs/testing/\"\n",
        "validation_datagen = ImageDataGenerator(rescale=1.0/255.)\n",
        "validation_generator = validation_datagen.flow_from_directory(VALIDATION_DIR,\n",
        "                                                              batch_size=100,\n",
        "                                                              class_mode='binary',\n",
        "                                                              target_size=(150, 150))\n",
        "\n",
        "# Expected Output:\n",
        "# Found 22498 images belonging to 2 classes.\n",
        "# Found 2500 images belonging to 2 classes."
      ],
      "execution_count": 21,
      "outputs": [
        {
          "output_type": "stream",
          "text": [
            "Found 22498 images belonging to 2 classes.\n",
            "Found 2500 images belonging to 2 classes.\n"
          ],
          "name": "stdout"
        }
      ]
    },
    {
      "cell_type": "code",
      "metadata": {
        "id": "KyS4n53w7DxC",
        "colab_type": "code",
        "colab": {
          "base_uri": "https://localhost:8080/",
          "height": 4814
        },
        "outputId": "933dda1e-4e7a-4755-fe9c-058d087413fe"
      },
      "source": [
        "# Note that this may take some time.\n",
        "history = model.fit_generator(train_generator,\n",
        "                              epochs=50,\n",
        "                              verbose=1,\n",
        "                              validation_data=validation_generator)"
      ],
      "execution_count": 22,
      "outputs": [
        {
          "output_type": "stream",
          "text": [
            "WARNING:tensorflow:From /usr/local/lib/python3.6/dist-packages/tensorflow/python/ops/math_ops.py:3066: to_int32 (from tensorflow.python.ops.math_ops) is deprecated and will be removed in a future version.\n",
            "Instructions for updating:\n",
            "Use tf.cast instead.\n",
            "Epoch 1/50\n",
            " 28/225 [==>...........................] - ETA: 1:14 - loss: 1.0314 - acc: 0.5436"
          ],
          "name": "stdout"
        },
        {
          "output_type": "stream",
          "text": [
            "/usr/local/lib/python3.6/dist-packages/PIL/TiffImagePlugin.py:725: UserWarning: Possibly corrupt EXIF data.  Expecting to read 209715200 bytes but only got 0. Skipping tag 48\n",
            "  \" Skipping tag %s\" % (size, len(data), tag))\n",
            "/usr/local/lib/python3.6/dist-packages/PIL/TiffImagePlugin.py:725: UserWarning: Possibly corrupt EXIF data.  Expecting to read 52428800 bytes but only got 0. Skipping tag 0\n",
            "  \" Skipping tag %s\" % (size, len(data), tag))\n",
            "/usr/local/lib/python3.6/dist-packages/PIL/TiffImagePlugin.py:725: UserWarning: Possibly corrupt EXIF data.  Expecting to read 6468665344 bytes but only got 0. Skipping tag 0\n",
            "  \" Skipping tag %s\" % (size, len(data), tag))\n",
            "/usr/local/lib/python3.6/dist-packages/PIL/TiffImagePlugin.py:725: UserWarning: Possibly corrupt EXIF data.  Expecting to read 1050744 bytes but only got 7027. Skipping tag 48\n",
            "  \" Skipping tag %s\" % (size, len(data), tag))\n",
            "/usr/local/lib/python3.6/dist-packages/PIL/TiffImagePlugin.py:725: UserWarning: Possibly corrupt EXIF data.  Expecting to read 422313984 bytes but only got 0. Skipping tag 5\n",
            "  \" Skipping tag %s\" % (size, len(data), tag))\n",
            "/usr/local/lib/python3.6/dist-packages/PIL/TiffImagePlugin.py:725: UserWarning: Possibly corrupt EXIF data.  Expecting to read 422838272 bytes but only got 0. Skipping tag 5\n",
            "  \" Skipping tag %s\" % (size, len(data), tag))\n",
            "/usr/local/lib/python3.6/dist-packages/PIL/TiffImagePlugin.py:725: UserWarning: Possibly corrupt EXIF data.  Expecting to read 3368026112 bytes but only got 0. Skipping tag 7\n",
            "  \" Skipping tag %s\" % (size, len(data), tag))\n",
            "/usr/local/lib/python3.6/dist-packages/PIL/TiffImagePlugin.py:725: UserWarning: Possibly corrupt EXIF data.  Expecting to read 134479872 bytes but only got 0. Skipping tag 7\n",
            "  \" Skipping tag %s\" % (size, len(data), tag))\n",
            "/usr/local/lib/python3.6/dist-packages/PIL/TiffImagePlugin.py:725: UserWarning: Possibly corrupt EXIF data.  Expecting to read 428867584 bytes but only got 0. Skipping tag 10\n",
            "  \" Skipping tag %s\" % (size, len(data), tag))\n",
            "/usr/local/lib/python3.6/dist-packages/PIL/TiffImagePlugin.py:725: UserWarning: Possibly corrupt EXIF data.  Expecting to read 429391872 bytes but only got 0. Skipping tag 5\n",
            "  \" Skipping tag %s\" % (size, len(data), tag))\n",
            "/usr/local/lib/python3.6/dist-packages/PIL/TiffImagePlugin.py:725: UserWarning: Possibly corrupt EXIF data.  Expecting to read 2031616 bytes but only got 0. Skipping tag 3\n",
            "  \" Skipping tag %s\" % (size, len(data), tag))\n",
            "/usr/local/lib/python3.6/dist-packages/PIL/TiffImagePlugin.py:725: UserWarning: Possibly corrupt EXIF data.  Expecting to read 429916160 bytes but only got 0. Skipping tag 5\n",
            "  \" Skipping tag %s\" % (size, len(data), tag))\n",
            "/usr/local/lib/python3.6/dist-packages/PIL/TiffImagePlugin.py:725: UserWarning: Possibly corrupt EXIF data.  Expecting to read 3300917248 bytes but only got 0. Skipping tag 7\n",
            "  \" Skipping tag %s\" % (size, len(data), tag))\n",
            "/usr/local/lib/python3.6/dist-packages/PIL/TiffImagePlugin.py:725: UserWarning: Possibly corrupt EXIF data.  Expecting to read 65536 bytes but only got 0. Skipping tag 3\n",
            "  \" Skipping tag %s\" % (size, len(data), tag))\n",
            "/usr/local/lib/python3.6/dist-packages/PIL/TiffImagePlugin.py:725: UserWarning: Possibly corrupt EXIF data.  Expecting to read 21299200 bytes but only got 0. Skipping tag 4\n",
            "  \" Skipping tag %s\" % (size, len(data), tag))\n",
            "/usr/local/lib/python3.6/dist-packages/PIL/TiffImagePlugin.py:725: UserWarning: Possibly corrupt EXIF data.  Expecting to read 24313856 bytes but only got 0. Skipping tag 4\n",
            "  \" Skipping tag %s\" % (size, len(data), tag))\n",
            "/usr/local/lib/python3.6/dist-packages/PIL/TiffImagePlugin.py:725: UserWarning: Possibly corrupt EXIF data.  Expecting to read 453771264 bytes but only got 7032. Skipping tag 4\n",
            "  \" Skipping tag %s\" % (size, len(data), tag))\n",
            "/usr/local/lib/python3.6/dist-packages/PIL/TiffImagePlugin.py:725: UserWarning: Possibly corrupt EXIF data.  Expecting to read 131073 bytes but only got 7028. Skipping tag 0\n",
            "  \" Skipping tag %s\" % (size, len(data), tag))\n",
            "/usr/local/lib/python3.6/dist-packages/PIL/TiffImagePlugin.py:725: UserWarning: Possibly corrupt EXIF data.  Expecting to read 393216 bytes but only got 0. Skipping tag 3\n",
            "  \" Skipping tag %s\" % (size, len(data), tag))\n",
            "/usr/local/lib/python3.6/dist-packages/PIL/TiffImagePlugin.py:725: UserWarning: Possibly corrupt EXIF data.  Expecting to read 416415744 bytes but only got 0. Skipping tag 5\n",
            "  \" Skipping tag %s\" % (size, len(data), tag))\n",
            "/usr/local/lib/python3.6/dist-packages/PIL/TiffImagePlugin.py:725: UserWarning: Possibly corrupt EXIF data.  Expecting to read 416940032 bytes but only got 0. Skipping tag 5\n",
            "  \" Skipping tag %s\" % (size, len(data), tag))\n",
            "/usr/local/lib/python3.6/dist-packages/PIL/TiffImagePlugin.py:725: UserWarning: Possibly corrupt EXIF data.  Expecting to read 131072 bytes but only got 0. Skipping tag 3\n",
            "  \" Skipping tag %s\" % (size, len(data), tag))\n",
            "/usr/local/lib/python3.6/dist-packages/PIL/TiffImagePlugin.py:725: UserWarning: Possibly corrupt EXIF data.  Expecting to read 524288 bytes but only got 0. Skipping tag 4\n",
            "  \" Skipping tag %s\" % (size, len(data), tag))\n",
            "/usr/local/lib/python3.6/dist-packages/PIL/TiffImagePlugin.py:725: UserWarning: Possibly corrupt EXIF data.  Expecting to read 415825920 bytes but only got 7032. Skipping tag 4\n",
            "  \" Skipping tag %s\" % (size, len(data), tag))\n",
            "/usr/local/lib/python3.6/dist-packages/PIL/TiffImagePlugin.py:742: UserWarning: Corrupt EXIF data.  Expecting to read 12 bytes but only got 2. \n",
            "  warnings.warn(str(msg))\n"
          ],
          "name": "stderr"
        },
        {
          "output_type": "stream",
          "text": [
            " 51/225 [=====>........................] - ETA: 1:00 - loss: 0.8783 - acc: 0.5596"
          ],
          "name": "stdout"
        },
        {
          "output_type": "stream",
          "text": [
            "/usr/local/lib/python3.6/dist-packages/PIL/TiffImagePlugin.py:725: UserWarning: Possibly corrupt EXIF data.  Expecting to read 262146 bytes but only got 0. Skipping tag 2\n",
            "  \" Skipping tag %s\" % (size, len(data), tag))\n",
            "/usr/local/lib/python3.6/dist-packages/PIL/TiffImagePlugin.py:725: UserWarning: Possibly corrupt EXIF data.  Expecting to read 262151 bytes but only got 0. Skipping tag 56\n",
            "  \" Skipping tag %s\" % (size, len(data), tag))\n",
            "/usr/local/lib/python3.6/dist-packages/PIL/TiffImagePlugin.py:742: UserWarning: Corrupt EXIF data.  Expecting to read 12 bytes but only got 0. \n",
            "  warnings.warn(str(msg))\n"
          ],
          "name": "stderr"
        },
        {
          "output_type": "stream",
          "text": [
            "102/225 [============>.................] - ETA: 40s - loss: 0.7758 - acc: 0.5793"
          ],
          "name": "stdout"
        },
        {
          "output_type": "stream",
          "text": [
            "/usr/local/lib/python3.6/dist-packages/PIL/TiffImagePlugin.py:725: UserWarning: Possibly corrupt EXIF data.  Expecting to read 18350080 bytes but only got 0. Skipping tag 0\n",
            "  \" Skipping tag %s\" % (size, len(data), tag))\n",
            "/usr/local/lib/python3.6/dist-packages/PIL/TiffImagePlugin.py:742: UserWarning: Corrupt EXIF data.  Expecting to read 12 bytes but only got 6. \n",
            "  warnings.warn(str(msg))\n"
          ],
          "name": "stderr"
        },
        {
          "output_type": "stream",
          "text": [
            "152/225 [===================>..........] - ETA: 23s - loss: 0.7257 - acc: 0.6084"
          ],
          "name": "stdout"
        },
        {
          "output_type": "stream",
          "text": [
            "/usr/local/lib/python3.6/dist-packages/PIL/TiffImagePlugin.py:725: UserWarning: Possibly corrupt EXIF data.  Expecting to read 80000 bytes but only got 0. Skipping tag 64640\n",
            "  \" Skipping tag %s\" % (size, len(data), tag))\n",
            "/usr/local/lib/python3.6/dist-packages/PIL/TiffImagePlugin.py:725: UserWarning: Possibly corrupt EXIF data.  Expecting to read 307363840 bytes but only got 0. Skipping tag 5\n",
            "  \" Skipping tag %s\" % (size, len(data), tag))\n",
            "/usr/local/lib/python3.6/dist-packages/PIL/TiffImagePlugin.py:725: UserWarning: Possibly corrupt EXIF data.  Expecting to read 307888128 bytes but only got 0. Skipping tag 5\n",
            "  \" Skipping tag %s\" % (size, len(data), tag))\n",
            "/usr/local/lib/python3.6/dist-packages/PIL/TiffImagePlugin.py:725: UserWarning: Possibly corrupt EXIF data.  Expecting to read 328728576 bytes but only got 0. Skipping tag 4\n",
            "  \" Skipping tag %s\" % (size, len(data), tag))\n",
            "/usr/local/lib/python3.6/dist-packages/PIL/TiffImagePlugin.py:725: UserWarning: Possibly corrupt EXIF data.  Expecting to read 1385474 bytes but only got 5357. Skipping tag 513\n",
            "  \" Skipping tag %s\" % (size, len(data), tag))\n",
            "/usr/local/lib/python3.6/dist-packages/PIL/TiffImagePlugin.py:725: UserWarning: Possibly corrupt EXIF data.  Expecting to read 3846701056 bytes but only got 0. Skipping tag 2\n",
            "  \" Skipping tag %s\" % (size, len(data), tag))\n",
            "/usr/local/lib/python3.6/dist-packages/PIL/TiffImagePlugin.py:725: UserWarning: Possibly corrupt EXIF data.  Expecting to read 196867 bytes but only got 5357. Skipping tag 0\n",
            "  \" Skipping tag %s\" % (size, len(data), tag))\n",
            "/usr/local/lib/python3.6/dist-packages/PIL/TiffImagePlugin.py:742: UserWarning: Corrupt EXIF data.  Expecting to read 12 bytes but only got 8. \n",
            "  warnings.warn(str(msg))\n"
          ],
          "name": "stderr"
        },
        {
          "output_type": "stream",
          "text": [
            "177/225 [======================>.......] - ETA: 15s - loss: 0.7093 - acc: 0.6174"
          ],
          "name": "stdout"
        },
        {
          "output_type": "stream",
          "text": [
            "/usr/local/lib/python3.6/dist-packages/PIL/TiffImagePlugin.py:725: UserWarning: Possibly corrupt EXIF data.  Expecting to read 32 bytes but only got 0. Skipping tag 270\n",
            "  \" Skipping tag %s\" % (size, len(data), tag))\n",
            "/usr/local/lib/python3.6/dist-packages/PIL/TiffImagePlugin.py:725: UserWarning: Possibly corrupt EXIF data.  Expecting to read 5 bytes but only got 0. Skipping tag 271\n",
            "  \" Skipping tag %s\" % (size, len(data), tag))\n",
            "/usr/local/lib/python3.6/dist-packages/PIL/TiffImagePlugin.py:725: UserWarning: Possibly corrupt EXIF data.  Expecting to read 8 bytes but only got 0. Skipping tag 272\n",
            "  \" Skipping tag %s\" % (size, len(data), tag))\n",
            "/usr/local/lib/python3.6/dist-packages/PIL/TiffImagePlugin.py:725: UserWarning: Possibly corrupt EXIF data.  Expecting to read 8 bytes but only got 0. Skipping tag 282\n",
            "  \" Skipping tag %s\" % (size, len(data), tag))\n",
            "/usr/local/lib/python3.6/dist-packages/PIL/TiffImagePlugin.py:725: UserWarning: Possibly corrupt EXIF data.  Expecting to read 8 bytes but only got 0. Skipping tag 283\n",
            "  \" Skipping tag %s\" % (size, len(data), tag))\n",
            "/usr/local/lib/python3.6/dist-packages/PIL/TiffImagePlugin.py:725: UserWarning: Possibly corrupt EXIF data.  Expecting to read 20 bytes but only got 0. Skipping tag 306\n",
            "  \" Skipping tag %s\" % (size, len(data), tag))\n",
            "/usr/local/lib/python3.6/dist-packages/PIL/TiffImagePlugin.py:725: UserWarning: Possibly corrupt EXIF data.  Expecting to read 48 bytes but only got 0. Skipping tag 532\n",
            "  \" Skipping tag %s\" % (size, len(data), tag))\n",
            "/usr/local/lib/python3.6/dist-packages/PIL/TiffImagePlugin.py:742: UserWarning: Corrupt EXIF data.  Expecting to read 2 bytes but only got 0. \n",
            "  warnings.warn(str(msg))\n"
          ],
          "name": "stderr"
        },
        {
          "output_type": "stream",
          "text": [
            "187/225 [=======================>......] - ETA: 12s - loss: 0.7027 - acc: 0.6216"
          ],
          "name": "stdout"
        },
        {
          "output_type": "stream",
          "text": [
            "/usr/local/lib/python3.6/dist-packages/PIL/TiffImagePlugin.py:725: UserWarning: Possibly corrupt EXIF data.  Expecting to read 6553600 bytes but only got 0. Skipping tag 49\n",
            "  \" Skipping tag %s\" % (size, len(data), tag))\n",
            "/usr/local/lib/python3.6/dist-packages/PIL/TiffImagePlugin.py:725: UserWarning: Possibly corrupt EXIF data.  Expecting to read 1050744 bytes but only got 4951. Skipping tag 51\n",
            "  \" Skipping tag %s\" % (size, len(data), tag))\n",
            "/usr/local/lib/python3.6/dist-packages/PIL/TiffImagePlugin.py:725: UserWarning: Possibly corrupt EXIF data.  Expecting to read 293339136 bytes but only got 0. Skipping tag 5\n",
            "  \" Skipping tag %s\" % (size, len(data), tag))\n",
            "/usr/local/lib/python3.6/dist-packages/PIL/TiffImagePlugin.py:725: UserWarning: Possibly corrupt EXIF data.  Expecting to read 293863424 bytes but only got 0. Skipping tag 5\n",
            "  \" Skipping tag %s\" % (size, len(data), tag))\n",
            "/usr/local/lib/python3.6/dist-packages/PIL/TiffImagePlugin.py:725: UserWarning: Possibly corrupt EXIF data.  Expecting to read 295698432 bytes but only got 0. Skipping tag 10\n",
            "  \" Skipping tag %s\" % (size, len(data), tag))\n",
            "/usr/local/lib/python3.6/dist-packages/PIL/TiffImagePlugin.py:725: UserWarning: Possibly corrupt EXIF data.  Expecting to read 296222720 bytes but only got 0. Skipping tag 5\n",
            "  \" Skipping tag %s\" % (size, len(data), tag))\n",
            "/usr/local/lib/python3.6/dist-packages/PIL/TiffImagePlugin.py:725: UserWarning: Possibly corrupt EXIF data.  Expecting to read 14745600 bytes but only got 0. Skipping tag 4\n",
            "  \" Skipping tag %s\" % (size, len(data), tag))\n",
            "/usr/local/lib/python3.6/dist-packages/PIL/TiffImagePlugin.py:725: UserWarning: Possibly corrupt EXIF data.  Expecting to read 25624576 bytes but only got 0. Skipping tag 4\n",
            "  \" Skipping tag %s\" % (size, len(data), tag))\n",
            "/usr/local/lib/python3.6/dist-packages/PIL/TiffImagePlugin.py:725: UserWarning: Possibly corrupt EXIF data.  Expecting to read 317718528 bytes but only got 4956. Skipping tag 4\n",
            "  \" Skipping tag %s\" % (size, len(data), tag))\n",
            "/usr/local/lib/python3.6/dist-packages/PIL/TiffImagePlugin.py:725: UserWarning: Possibly corrupt EXIF data.  Expecting to read 131073 bytes but only got 4952. Skipping tag 0\n",
            "  \" Skipping tag %s\" % (size, len(data), tag))\n",
            "/usr/local/lib/python3.6/dist-packages/PIL/TiffImagePlugin.py:725: UserWarning: Possibly corrupt EXIF data.  Expecting to read 287178752 bytes but only got 0. Skipping tag 5\n",
            "  \" Skipping tag %s\" % (size, len(data), tag))\n",
            "/usr/local/lib/python3.6/dist-packages/PIL/TiffImagePlugin.py:725: UserWarning: Possibly corrupt EXIF data.  Expecting to read 287703040 bytes but only got 0. Skipping tag 5\n",
            "  \" Skipping tag %s\" % (size, len(data), tag))\n",
            "/usr/local/lib/python3.6/dist-packages/PIL/TiffImagePlugin.py:725: UserWarning: Possibly corrupt EXIF data.  Expecting to read 286654464 bytes but only got 4956. Skipping tag 4\n",
            "  \" Skipping tag %s\" % (size, len(data), tag))\n"
          ],
          "name": "stderr"
        },
        {
          "output_type": "stream",
          "text": [
            "25/25 [==============================] - 10s 385ms/step - loss: 0.5853 - acc: 0.7272\n",
            "225/225 [==============================] - 83s 369ms/step - loss: 0.6845 - acc: 0.6341 - val_loss: 0.5853 - val_acc: 0.7272\n"
          ],
          "name": "stdout"
        },
        {
          "output_type": "stream",
          "text": [
            "/usr/local/lib/python3.6/dist-packages/PIL/TiffImagePlugin.py:725: UserWarning: Possibly corrupt EXIF data.  Expecting to read 404094976 bytes but only got 0. Skipping tag 5\n",
            "  \" Skipping tag %s\" % (size, len(data), tag))\n",
            "/usr/local/lib/python3.6/dist-packages/PIL/TiffImagePlugin.py:725: UserWarning: Possibly corrupt EXIF data.  Expecting to read 404619264 bytes but only got 0. Skipping tag 5\n",
            "  \" Skipping tag %s\" % (size, len(data), tag))\n",
            "/usr/local/lib/python3.6/dist-packages/PIL/TiffImagePlugin.py:725: UserWarning: Possibly corrupt EXIF data.  Expecting to read 425459712 bytes but only got 0. Skipping tag 4\n",
            "  \" Skipping tag %s\" % (size, len(data), tag))\n",
            "/usr/local/lib/python3.6/dist-packages/PIL/TiffImagePlugin.py:725: UserWarning: Possibly corrupt EXIF data.  Expecting to read 1385474 bytes but only got 6833. Skipping tag 513\n",
            "  \" Skipping tag %s\" % (size, len(data), tag))\n",
            "/usr/local/lib/python3.6/dist-packages/PIL/TiffImagePlugin.py:725: UserWarning: Possibly corrupt EXIF data.  Expecting to read 196867 bytes but only got 6833. Skipping tag 0\n",
            "  \" Skipping tag %s\" % (size, len(data), tag))\n"
          ],
          "name": "stderr"
        },
        {
          "output_type": "stream",
          "text": [
            "Epoch 2/50\n",
            "25/25 [==============================] - 10s 387ms/step - loss: 0.4909 - acc: 0.7712\n",
            "225/225 [==============================] - 80s 357ms/step - loss: 0.5310 - acc: 0.7307 - val_loss: 0.4909 - val_acc: 0.7712\n",
            "Epoch 3/50\n",
            "25/25 [==============================] - 9s 363ms/step - loss: 0.4371 - acc: 0.8000\n",
            "225/225 [==============================] - 78s 348ms/step - loss: 0.4567 - acc: 0.7818 - val_loss: 0.4371 - val_acc: 0.8000\n",
            "Epoch 4/50\n",
            "25/25 [==============================] - 9s 358ms/step - loss: 0.4202 - acc: 0.8120\n",
            "225/225 [==============================] - 78s 347ms/step - loss: 0.3950 - acc: 0.8201 - val_loss: 0.4202 - val_acc: 0.8120\n",
            "Epoch 5/50\n",
            "25/25 [==============================] - 9s 359ms/step - loss: 0.5157 - acc: 0.7516\n",
            "225/225 [==============================] - 78s 347ms/step - loss: 0.3307 - acc: 0.8554 - val_loss: 0.5157 - val_acc: 0.7516\n",
            "Epoch 6/50\n",
            "25/25 [==============================] - 9s 355ms/step - loss: 0.4571 - acc: 0.7956\n",
            "225/225 [==============================] - 77s 341ms/step - loss: 0.2631 - acc: 0.8866 - val_loss: 0.4571 - val_acc: 0.7956\n",
            "Epoch 7/50\n",
            "25/25 [==============================] - 9s 346ms/step - loss: 0.5664 - acc: 0.8144\n",
            "225/225 [==============================] - 76s 337ms/step - loss: 0.1890 - acc: 0.9246 - val_loss: 0.5664 - val_acc: 0.8144\n",
            "Epoch 8/50\n",
            "25/25 [==============================] - 9s 346ms/step - loss: 0.5922 - acc: 0.8076\n",
            "225/225 [==============================] - 76s 338ms/step - loss: 0.1261 - acc: 0.9531 - val_loss: 0.5922 - val_acc: 0.8076\n",
            "Epoch 9/50\n",
            "25/25 [==============================] - 9s 349ms/step - loss: 0.7275 - acc: 0.8040\n",
            "225/225 [==============================] - 76s 339ms/step - loss: 0.0819 - acc: 0.9709 - val_loss: 0.7275 - val_acc: 0.8040\n",
            "Epoch 10/50\n",
            "25/25 [==============================] - 9s 346ms/step - loss: 0.7308 - acc: 0.8076\n",
            "225/225 [==============================] - 77s 343ms/step - loss: 0.0730 - acc: 0.9771 - val_loss: 0.7308 - val_acc: 0.8076\n",
            "Epoch 11/50\n",
            "25/25 [==============================] - 9s 347ms/step - loss: 0.8948 - acc: 0.8128\n",
            "225/225 [==============================] - 76s 336ms/step - loss: 0.0647 - acc: 0.9835 - val_loss: 0.8948 - val_acc: 0.8128\n",
            "Epoch 12/50\n",
            "25/25 [==============================] - 9s 348ms/step - loss: 0.8014 - acc: 0.8068\n",
            "225/225 [==============================] - 76s 336ms/step - loss: 0.0525 - acc: 0.9851 - val_loss: 0.8014 - val_acc: 0.8068\n",
            "Epoch 13/50\n",
            "25/25 [==============================] - 9s 349ms/step - loss: 0.9317 - acc: 0.8096\n",
            "225/225 [==============================] - 76s 339ms/step - loss: 0.0589 - acc: 0.9855 - val_loss: 0.9317 - val_acc: 0.8096\n",
            "Epoch 14/50\n",
            "25/25 [==============================] - 9s 348ms/step - loss: 0.9325 - acc: 0.8112\n",
            "225/225 [==============================] - 77s 344ms/step - loss: 0.0484 - acc: 0.9875 - val_loss: 0.9325 - val_acc: 0.8112\n",
            "Epoch 15/50\n",
            "25/25 [==============================] - 9s 348ms/step - loss: 1.0393 - acc: 0.8072\n",
            "225/225 [==============================] - 76s 336ms/step - loss: 0.0477 - acc: 0.9873 - val_loss: 1.0393 - val_acc: 0.8072\n",
            "Epoch 16/50\n",
            "25/25 [==============================] - 9s 346ms/step - loss: 0.9975 - acc: 0.8136\n",
            "225/225 [==============================] - 75s 335ms/step - loss: 0.0698 - acc: 0.9883 - val_loss: 0.9975 - val_acc: 0.8136\n",
            "Epoch 17/50\n",
            "25/25 [==============================] - 9s 346ms/step - loss: 1.3641 - acc: 0.8152\n",
            "225/225 [==============================] - 75s 335ms/step - loss: 0.0365 - acc: 0.9908 - val_loss: 1.3641 - val_acc: 0.8152\n",
            "Epoch 18/50\n",
            "25/25 [==============================] - 9s 347ms/step - loss: 1.1239 - acc: 0.8072\n",
            "225/225 [==============================] - 77s 341ms/step - loss: 0.0645 - acc: 0.9873 - val_loss: 1.1239 - val_acc: 0.8072\n",
            "Epoch 19/50\n",
            "25/25 [==============================] - 10s 385ms/step - loss: 1.1416 - acc: 0.8100\n",
            "225/225 [==============================] - 75s 335ms/step - loss: 0.0572 - acc: 0.9888 - val_loss: 1.1416 - val_acc: 0.8100\n",
            "Epoch 20/50\n",
            "25/25 [==============================] - 10s 400ms/step - loss: 1.0632 - acc: 0.7984\n",
            "225/225 [==============================] - 75s 334ms/step - loss: 0.0629 - acc: 0.9867 - val_loss: 1.0632 - val_acc: 0.7984\n",
            "Epoch 21/50\n",
            "25/25 [==============================] - 9s 371ms/step - loss: 1.2712 - acc: 0.8136\n",
            "225/225 [==============================] - 75s 335ms/step - loss: 0.0333 - acc: 0.9919 - val_loss: 1.2712 - val_acc: 0.8136\n",
            "Epoch 22/50\n",
            "25/25 [==============================] - 9s 346ms/step - loss: 1.2059 - acc: 0.8108\n",
            "225/225 [==============================] - 76s 339ms/step - loss: 0.0469 - acc: 0.9898 - val_loss: 1.2059 - val_acc: 0.8108\n",
            "Epoch 23/50\n",
            "25/25 [==============================] - 9s 347ms/step - loss: 1.2670 - acc: 0.8168\n",
            "225/225 [==============================] - 75s 335ms/step - loss: 0.0467 - acc: 0.9903 - val_loss: 1.2670 - val_acc: 0.8168\n",
            "Epoch 24/50\n",
            "25/25 [==============================] - 9s 346ms/step - loss: 1.5422 - acc: 0.8044\n",
            "225/225 [==============================] - 75s 334ms/step - loss: 0.0516 - acc: 0.9876 - val_loss: 1.5422 - val_acc: 0.8044\n",
            "Epoch 25/50\n",
            "25/25 [==============================] - 9s 343ms/step - loss: 1.0312 - acc: 0.7964\n",
            "225/225 [==============================] - 76s 336ms/step - loss: 0.0693 - acc: 0.9873 - val_loss: 1.0312 - val_acc: 0.7964\n",
            "Epoch 26/50\n",
            "25/25 [==============================] - 9s 346ms/step - loss: 1.4306 - acc: 0.7392\n",
            "225/225 [==============================] - 76s 340ms/step - loss: 0.0361 - acc: 0.9909 - val_loss: 1.4306 - val_acc: 0.7392\n",
            "Epoch 27/50\n",
            "25/25 [==============================] - 9s 345ms/step - loss: 1.3047 - acc: 0.8076\n",
            "225/225 [==============================] - 76s 337ms/step - loss: 0.0498 - acc: 0.9892 - val_loss: 1.3047 - val_acc: 0.8076\n",
            "Epoch 28/50\n",
            "25/25 [==============================] - 9s 345ms/step - loss: 1.4177 - acc: 0.7120\n",
            "225/225 [==============================] - 75s 333ms/step - loss: 0.0688 - acc: 0.9878 - val_loss: 1.4177 - val_acc: 0.7120\n",
            "Epoch 29/50\n",
            "25/25 [==============================] - 9s 347ms/step - loss: 1.9908 - acc: 0.7896\n",
            "225/225 [==============================] - 76s 336ms/step - loss: 0.0508 - acc: 0.9892 - val_loss: 1.9908 - val_acc: 0.7896\n",
            "Epoch 30/50\n",
            "25/25 [==============================] - 9s 347ms/step - loss: 1.4413 - acc: 0.8048\n",
            "225/225 [==============================] - 77s 344ms/step - loss: 0.0513 - acc: 0.9888 - val_loss: 1.4413 - val_acc: 0.8048\n",
            "Epoch 31/50\n",
            "25/25 [==============================] - 9s 346ms/step - loss: 1.5102 - acc: 0.7932\n",
            "225/225 [==============================] - 75s 334ms/step - loss: 0.0716 - acc: 0.9860 - val_loss: 1.5102 - val_acc: 0.7932\n",
            "Epoch 32/50\n",
            "25/25 [==============================] - 9s 348ms/step - loss: 1.2779 - acc: 0.8024\n",
            "225/225 [==============================] - 75s 334ms/step - loss: 0.0408 - acc: 0.9910 - val_loss: 1.2779 - val_acc: 0.8024\n",
            "Epoch 33/50\n",
            "25/25 [==============================] - 9s 361ms/step - loss: 1.5161 - acc: 0.8120\n",
            "225/225 [==============================] - 76s 338ms/step - loss: 0.0386 - acc: 0.9923 - val_loss: 1.5161 - val_acc: 0.8120\n",
            "Epoch 34/50\n",
            "25/25 [==============================] - 9s 348ms/step - loss: 1.3649 - acc: 0.7936\n",
            "225/225 [==============================] - 76s 336ms/step - loss: 0.0640 - acc: 0.9861 - val_loss: 1.3649 - val_acc: 0.7936\n",
            "Epoch 35/50\n",
            "25/25 [==============================] - 9s 348ms/step - loss: 1.4758 - acc: 0.7980\n",
            "225/225 [==============================] - 75s 334ms/step - loss: 0.0324 - acc: 0.9928 - val_loss: 1.4758 - val_acc: 0.7980\n",
            "Epoch 36/50\n",
            "25/25 [==============================] - 10s 388ms/step - loss: 1.5657 - acc: 0.8096\n",
            "225/225 [==============================] - 75s 335ms/step - loss: 0.0390 - acc: 0.9910 - val_loss: 1.5657 - val_acc: 0.8096\n",
            "Epoch 37/50\n",
            "25/25 [==============================] - 10s 396ms/step - loss: 1.4952 - acc: 0.8120\n",
            "225/225 [==============================] - 75s 333ms/step - loss: 0.0557 - acc: 0.9908 - val_loss: 1.4952 - val_acc: 0.8120\n",
            "Epoch 38/50\n",
            "25/25 [==============================] - 10s 411ms/step - loss: 1.5451 - acc: 0.8012\n",
            "225/225 [==============================] - 76s 337ms/step - loss: 0.0483 - acc: 0.9904 - val_loss: 1.5451 - val_acc: 0.8012\n",
            "Epoch 39/50\n",
            "25/25 [==============================] - 9s 344ms/step - loss: 1.4116 - acc: 0.8132\n",
            "225/225 [==============================] - 74s 331ms/step - loss: 0.0453 - acc: 0.9916 - val_loss: 1.4116 - val_acc: 0.8132\n",
            "Epoch 40/50\n",
            "25/25 [==============================] - 9s 341ms/step - loss: 1.2195 - acc: 0.7960\n",
            "225/225 [==============================] - 75s 332ms/step - loss: 0.0715 - acc: 0.9886 - val_loss: 1.2195 - val_acc: 0.7960\n",
            "Epoch 41/50\n",
            "25/25 [==============================] - 9s 362ms/step - loss: 1.4172 - acc: 0.8056\n",
            "225/225 [==============================] - 75s 335ms/step - loss: 0.0588 - acc: 0.9886 - val_loss: 1.4172 - val_acc: 0.8056\n",
            "Epoch 42/50\n",
            "25/25 [==============================] - 9s 376ms/step - loss: 1.6218 - acc: 0.8144\n",
            "225/225 [==============================] - 77s 343ms/step - loss: 0.0666 - acc: 0.9881 - val_loss: 1.6218 - val_acc: 0.8144\n",
            "Epoch 43/50\n",
            "25/25 [==============================] - 9s 348ms/step - loss: 1.5086 - acc: 0.8080\n",
            "225/225 [==============================] - 76s 338ms/step - loss: 0.0674 - acc: 0.9861 - val_loss: 1.5086 - val_acc: 0.8080\n",
            "Epoch 44/50\n",
            "25/25 [==============================] - 9s 348ms/step - loss: 1.8313 - acc: 0.8092\n",
            "225/225 [==============================] - 75s 335ms/step - loss: 0.0716 - acc: 0.9898 - val_loss: 1.8313 - val_acc: 0.8092\n",
            "Epoch 45/50\n",
            "25/25 [==============================] - 9s 352ms/step - loss: 1.4291 - acc: 0.8036\n",
            "225/225 [==============================] - 75s 335ms/step - loss: 0.0658 - acc: 0.9902 - val_loss: 1.4291 - val_acc: 0.8036\n",
            "Epoch 46/50\n",
            "25/25 [==============================] - 9s 343ms/step - loss: 1.6022 - acc: 0.7952\n",
            "225/225 [==============================] - 76s 336ms/step - loss: 0.0516 - acc: 0.9904 - val_loss: 1.6022 - val_acc: 0.7952\n",
            "Epoch 47/50\n",
            "25/25 [==============================] - 9s 350ms/step - loss: 1.7252 - acc: 0.7944\n",
            "225/225 [==============================] - 77s 342ms/step - loss: 0.0501 - acc: 0.9906 - val_loss: 1.7252 - val_acc: 0.7944\n",
            "Epoch 48/50\n",
            "25/25 [==============================] - 9s 354ms/step - loss: 1.6364 - acc: 0.8076\n",
            "225/225 [==============================] - 76s 339ms/step - loss: 0.0556 - acc: 0.9914 - val_loss: 1.6364 - val_acc: 0.8076\n",
            "Epoch 49/50\n",
            "25/25 [==============================] - 9s 351ms/step - loss: 1.6437 - acc: 0.8032\n",
            "225/225 [==============================] - 76s 337ms/step - loss: 0.0479 - acc: 0.9918 - val_loss: 1.6437 - val_acc: 0.8032\n",
            "Epoch 50/50\n",
            "25/25 [==============================] - 9s 343ms/step - loss: 1.8403 - acc: 0.8084\n",
            "225/225 [==============================] - 76s 339ms/step - loss: 0.0470 - acc: 0.9908 - val_loss: 1.8403 - val_acc: 0.8084\n"
          ],
          "name": "stdout"
        }
      ]
    },
    {
      "cell_type": "code",
      "metadata": {
        "id": "MWZrJN4-65RC",
        "colab_type": "code",
        "colab": {
          "base_uri": "https://localhost:8080/",
          "height": 567
        },
        "outputId": "0be4bc21-a79f-49f6-d626-eff08b358bba"
      },
      "source": [
        "%matplotlib inline\n",
        "\n",
        "import matplotlib.image  as mpimg\n",
        "import matplotlib.pyplot as plt\n",
        "\n",
        "#-----------------------------------------------------------\n",
        "# Retrieve a list of list results on training and test data\n",
        "# sets for each training epoch\n",
        "#-----------------------------------------------------------\n",
        "acc=history.history['acc']\n",
        "val_acc=history.history['val_acc']\n",
        "loss=history.history['loss']\n",
        "val_loss=history.history['val_loss']\n",
        "\n",
        "epochs=range(len(acc)) # Get number of epochs\n",
        "\n",
        "#------------------------------------------------\n",
        "# Plot training and validation accuracy per epoch\n",
        "#------------------------------------------------\n",
        "plt.plot(epochs, acc, 'r', \"Training Accuracy\")\n",
        "plt.plot(epochs, val_acc, 'b', \"Validation Accuracy\")\n",
        "plt.title('Training and validation accuracy')\n",
        "plt.figure()\n",
        "\n",
        "#------------------------------------------------\n",
        "# Plot training and validation loss per epoch\n",
        "#------------------------------------------------\n",
        "plt.plot(epochs, loss, 'r', \"Training Loss\")\n",
        "plt.plot(epochs, val_loss, 'b', \"Validation Loss\")\n",
        "plt.figure()\n",
        "\n",
        "\n",
        "# Desired output. Charts with training and validation metrics. No crash :)"
      ],
      "execution_count": 23,
      "outputs": [
        {
          "output_type": "execute_result",
          "data": {
            "text/plain": [
              "<Figure size 432x288 with 0 Axes>"
            ]
          },
          "metadata": {
            "tags": []
          },
          "execution_count": 23
        },
        {
          "output_type": "display_data",
          "data": {
            "image/png": "[encoded data removed]",
            "text/plain": [
              "<Figure size 432x288 with 1 Axes>"
            ]
          },
          "metadata": {
            "tags": []
          }
        },
        {
          "output_type": "display_data",
          "data": {
            "image/png": "[encoded data removed]",
            "text/plain": [
              "<Figure size 432x288 with 1 Axes>"
            ]
          },
          "metadata": {
            "tags": []
          }
        },
        {
          "output_type": "display_data",
          "data": {
            "text/plain": [
              "<Figure size 432x288 with 0 Axes>"
            ]
          },
          "metadata": {
            "tags": []
          }
        }
      ]
    }
  ]
}